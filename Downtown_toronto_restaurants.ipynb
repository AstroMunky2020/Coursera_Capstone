{
 "cells": [
  {
   "cell_type": "markdown",
   "metadata": {},
   "source": [
    "# Capstone Project - Restaurant Theme in Downtown Toronto (Week 4)"
   ]
  },
  {
   "cell_type": "markdown",
   "metadata": {},
   "source": [
    "## 1. Introduction"
   ]
  },
  {
   "cell_type": "markdown",
   "metadata": {},
   "source": [
    "### 1.1 The Client"
   ]
  },
  {
   "cell_type": "markdown",
   "metadata": {},
   "source": [
    "The problem as outlined by the client is as follows. They are a national restaurant chain who have grown in size considerably due to their ability to listen to customer preferences. Their current strategy is based on a feedback system as follows:\n",
    "\n",
    "1. Surveys are collected about which style of restaurant people would like to see added to the area they live in. \n",
    "2. A restaurant is then themed on the highest chosen.\n",
    "\n",
    "This current strategy requires additional staffing to conduct the surveys and often takes weeks or months to complete before a desicsion can be made. As the company is in a position to grow even faster, this process is bottleneck in the companys' progression and as such, a new strategy for quickly determining the most sucessful theme of restaurant to open is vital. Herein, we propose a strategy based on collecting data and utilizing location data to determine this parameter instantly. "
   ]
  },
  {
   "cell_type": "markdown",
   "metadata": {},
   "source": [
    "### 1.2 Strategy"
   ]
  },
  {
   "cell_type": "markdown",
   "metadata": {},
   "source": [
    "The purpose of this project is to determine which theme of restaurant will be most sucessful in the Downtown Toronto area based on the selection of themes that are available in the whole of Toronto, Ontario. The most abundant styles of restaurant in Toronto will be compared with the styles available in the Downtown Toronto area. If a theme or selection of themes that are abundant in Toronto are less so in the Downtown Toronto area, this will help to guide the client when making a descision on which style of restaurant to open. \n",
    "\n",
    "The top 3 restaurant themes will be exctracted from the whole of Toronto and compared with the Downtown area. Determining the number of restaurants with these themes from the Toronto area, the 3 lowest abundant resturants will be dtermined to help the client make a descision based on their knowledge of start up costs for each of those 3 restaurant themes. \n",
    "\n",
    "Once the descision has been made on which style of restaurant will be opened, location data will be used to determine placement of the restaurant in the neighborhood to minimise rivalry.  "
   ]
  },
  {
   "cell_type": "markdown",
   "metadata": {},
   "source": [
    "### 1.3 Data and Tools"
   ]
  },
  {
   "cell_type": "markdown",
   "metadata": {},
   "source": [
    "The following data will be used for the investigation:\n",
    "\n",
    "1. Number of each theme of restaurant in Toronto\n",
    "2. Number of each theme of restaurant in the Downtown Toronto area\n",
    "3. Placement of restaurant themes\n",
    "\n",
    "The data will be scraped from available data on wikipedia and sorted for analysis. This will be achieved with commonly used python libraries such as**BeautifulSoup**, **numpy** and **pandas** for data analysis and with **foursquare API** for location analysis."
   ]
  },
  {
   "cell_type": "markdown",
   "metadata": {},
   "source": [
    "## 2. Data Collection and Analysis"
   ]
  },
  {
   "cell_type": "markdown",
   "metadata": {},
   "source": [
    "### 2.1 Data Collection"
   ]
  },
  {
   "cell_type": "markdown",
   "metadata": {},
   "source": [
    "Firstly, the relevant libraries are imported."
   ]
  },
  {
   "cell_type": "code",
   "execution_count": 2,
   "metadata": {},
   "outputs": [],
   "source": [
    "import requests\n",
    "from bs4 import BeautifulSoup\n",
    "import pandas as pd"
   ]
  },
  {
   "cell_type": "markdown",
   "metadata": {},
   "source": [
    "A webpage containing postcode and neighborhood data is scraped from a wikipedia page. This will the basis for the main dataframe."
   ]
  },
  {
   "cell_type": "code",
   "execution_count": 3,
   "metadata": {},
   "outputs": [
    {
     "name": "stdout",
     "output_type": "stream",
     "text": [
      "['Postal Code', 'Borough', 'Neighborhood']\n"
     ]
    }
   ],
   "source": [
    "url = 'https://en.wikipedia.org/wiki/List_of_postal_codes_of_Canada:_M'\n",
    "headers = {'User-Agent':'Mozilla/5.0'}\n",
    "response = requests.get(url)\n",
    "soup = BeautifulSoup(response.text, 'html.parser')\n",
    "\n",
    "PCtable = soup.find('table', {'class':'wikitable sortable'}).tbody\n",
    "rows = PCtable.find_all('tr')\n",
    "columns = [v.text.replace('\\n', '') for v in rows[0].find_all('th')]\n",
    "print(columns)"
   ]
  },
  {
   "cell_type": "markdown",
   "metadata": {},
   "source": [
    "Collecting data and placing cell values into correct cells to create the dataframe. "
   ]
  },
  {
   "cell_type": "code",
   "execution_count": 7,
   "metadata": {},
   "outputs": [
    {
     "data": {
      "text/html": [
       "<div>\n",
       "<style scoped>\n",
       "    .dataframe tbody tr th:only-of-type {\n",
       "        vertical-align: middle;\n",
       "    }\n",
       "\n",
       "    .dataframe tbody tr th {\n",
       "        vertical-align: top;\n",
       "    }\n",
       "\n",
       "    .dataframe thead th {\n",
       "        text-align: right;\n",
       "    }\n",
       "</style>\n",
       "<table border=\"1\" class=\"dataframe\">\n",
       "  <thead>\n",
       "    <tr style=\"text-align: right;\">\n",
       "      <th></th>\n",
       "      <th>Postal Code</th>\n",
       "      <th>Borough</th>\n",
       "      <th>Neighborhood</th>\n",
       "    </tr>\n",
       "  </thead>\n",
       "  <tbody>\n",
       "    <tr>\n",
       "      <th>0</th>\n",
       "      <td>M1A</td>\n",
       "      <td>Not assigned</td>\n",
       "      <td>Not assigned</td>\n",
       "    </tr>\n",
       "    <tr>\n",
       "      <th>1</th>\n",
       "      <td>M2A</td>\n",
       "      <td>Not assigned</td>\n",
       "      <td>Not assigned</td>\n",
       "    </tr>\n",
       "    <tr>\n",
       "      <th>2</th>\n",
       "      <td>M3A</td>\n",
       "      <td>North York</td>\n",
       "      <td>Parkwoods</td>\n",
       "    </tr>\n",
       "    <tr>\n",
       "      <th>3</th>\n",
       "      <td>M4A</td>\n",
       "      <td>North York</td>\n",
       "      <td>Victoria Village</td>\n",
       "    </tr>\n",
       "    <tr>\n",
       "      <th>4</th>\n",
       "      <td>M5A</td>\n",
       "      <td>Downtown Toronto</td>\n",
       "      <td>Regent Park, Harbourfront</td>\n",
       "    </tr>\n",
       "  </tbody>\n",
       "</table>\n",
       "</div>"
      ],
      "text/plain": [
       "  Postal Code           Borough               Neighborhood\n",
       "0         M1A      Not assigned               Not assigned\n",
       "1         M2A      Not assigned               Not assigned\n",
       "2         M3A        North York                  Parkwoods\n",
       "3         M4A        North York           Victoria Village\n",
       "4         M5A  Downtown Toronto  Regent Park, Harbourfront"
      ]
     },
     "execution_count": 7,
     "metadata": {},
     "output_type": "execute_result"
    }
   ],
   "source": [
    "df = pd.DataFrame(columns=columns)\n",
    "\n",
    "for i in range(1, len(rows)):\n",
    "    tds = rows[i].find_all('td')\n",
    "    \n",
    "    if len(tds) ==2:\n",
    "          values = [tds[0].text, tds[1].text, tds[2].text.replace('\\n','')]\n",
    "    else:\n",
    "        values = [td.text.replace('\\n','') for td in tds]\n",
    "           \n",
    "    \n",
    "            \n",
    "    df = df.append(pd.Series(values, index=columns), ignore_index=True)\n",
    "    \n",
    "df.head()"
   ]
  },
  {
   "cell_type": "markdown",
   "metadata": {},
   "source": [
    "Cleaning the data to remove any cells without a value"
   ]
  },
  {
   "cell_type": "code",
   "execution_count": 11,
   "metadata": {},
   "outputs": [],
   "source": [
    "df = df[df['Borough'] != 'Not assigned']"
   ]
  },
  {
   "cell_type": "code",
   "execution_count": 12,
   "metadata": {},
   "outputs": [
    {
     "data": {
      "text/html": [
       "<div>\n",
       "<style scoped>\n",
       "    .dataframe tbody tr th:only-of-type {\n",
       "        vertical-align: middle;\n",
       "    }\n",
       "\n",
       "    .dataframe tbody tr th {\n",
       "        vertical-align: top;\n",
       "    }\n",
       "\n",
       "    .dataframe thead th {\n",
       "        text-align: right;\n",
       "    }\n",
       "</style>\n",
       "<table border=\"1\" class=\"dataframe\">\n",
       "  <thead>\n",
       "    <tr style=\"text-align: right;\">\n",
       "      <th></th>\n",
       "      <th>Postal Code</th>\n",
       "      <th>Borough</th>\n",
       "      <th>Neighborhood</th>\n",
       "    </tr>\n",
       "  </thead>\n",
       "  <tbody>\n",
       "    <tr>\n",
       "      <th>2</th>\n",
       "      <td>M3A</td>\n",
       "      <td>North York</td>\n",
       "      <td>Parkwoods</td>\n",
       "    </tr>\n",
       "    <tr>\n",
       "      <th>3</th>\n",
       "      <td>M4A</td>\n",
       "      <td>North York</td>\n",
       "      <td>Victoria Village</td>\n",
       "    </tr>\n",
       "    <tr>\n",
       "      <th>4</th>\n",
       "      <td>M5A</td>\n",
       "      <td>Downtown Toronto</td>\n",
       "      <td>Regent Park, Harbourfront</td>\n",
       "    </tr>\n",
       "    <tr>\n",
       "      <th>5</th>\n",
       "      <td>M6A</td>\n",
       "      <td>North York</td>\n",
       "      <td>Lawrence Manor, Lawrence Heights</td>\n",
       "    </tr>\n",
       "    <tr>\n",
       "      <th>6</th>\n",
       "      <td>M7A</td>\n",
       "      <td>Downtown Toronto</td>\n",
       "      <td>Queen's Park, Ontario Provincial Government</td>\n",
       "    </tr>\n",
       "  </tbody>\n",
       "</table>\n",
       "</div>"
      ],
      "text/plain": [
       "  Postal Code           Borough                                 Neighborhood\n",
       "2         M3A        North York                                    Parkwoods\n",
       "3         M4A        North York                             Victoria Village\n",
       "4         M5A  Downtown Toronto                    Regent Park, Harbourfront\n",
       "5         M6A        North York             Lawrence Manor, Lawrence Heights\n",
       "6         M7A  Downtown Toronto  Queen's Park, Ontario Provincial Government"
      ]
     },
     "execution_count": 12,
     "metadata": {},
     "output_type": "execute_result"
    }
   ],
   "source": [
    "df.head()"
   ]
  },
  {
   "cell_type": "markdown",
   "metadata": {},
   "source": [
    "Coordinates obtained from geopy and saved as a csv file are added to the dataframe to provide location data for boroughs and neighborhoods"
   ]
  },
  {
   "cell_type": "code",
   "execution_count": 13,
   "metadata": {},
   "outputs": [
    {
     "data": {
      "text/html": [
       "<div>\n",
       "<style scoped>\n",
       "    .dataframe tbody tr th:only-of-type {\n",
       "        vertical-align: middle;\n",
       "    }\n",
       "\n",
       "    .dataframe tbody tr th {\n",
       "        vertical-align: top;\n",
       "    }\n",
       "\n",
       "    .dataframe thead th {\n",
       "        text-align: right;\n",
       "    }\n",
       "</style>\n",
       "<table border=\"1\" class=\"dataframe\">\n",
       "  <thead>\n",
       "    <tr style=\"text-align: right;\">\n",
       "      <th></th>\n",
       "      <th>Postal Code</th>\n",
       "      <th>Latitude</th>\n",
       "      <th>Longitude</th>\n",
       "    </tr>\n",
       "  </thead>\n",
       "  <tbody>\n",
       "    <tr>\n",
       "      <th>0</th>\n",
       "      <td>M1B</td>\n",
       "      <td>43.806686</td>\n",
       "      <td>-79.194353</td>\n",
       "    </tr>\n",
       "    <tr>\n",
       "      <th>1</th>\n",
       "      <td>M1C</td>\n",
       "      <td>43.784535</td>\n",
       "      <td>-79.160497</td>\n",
       "    </tr>\n",
       "    <tr>\n",
       "      <th>2</th>\n",
       "      <td>M1E</td>\n",
       "      <td>43.763573</td>\n",
       "      <td>-79.188711</td>\n",
       "    </tr>\n",
       "    <tr>\n",
       "      <th>3</th>\n",
       "      <td>M1G</td>\n",
       "      <td>43.770992</td>\n",
       "      <td>-79.216917</td>\n",
       "    </tr>\n",
       "    <tr>\n",
       "      <th>4</th>\n",
       "      <td>M1H</td>\n",
       "      <td>43.773136</td>\n",
       "      <td>-79.239476</td>\n",
       "    </tr>\n",
       "  </tbody>\n",
       "</table>\n",
       "</div>"
      ],
      "text/plain": [
       "  Postal Code   Latitude  Longitude\n",
       "0         M1B  43.806686 -79.194353\n",
       "1         M1C  43.784535 -79.160497\n",
       "2         M1E  43.763573 -79.188711\n",
       "3         M1G  43.770992 -79.216917\n",
       "4         M1H  43.773136 -79.239476"
      ]
     },
     "execution_count": 13,
     "metadata": {},
     "output_type": "execute_result"
    }
   ],
   "source": [
    "coor_df = pd.read_csv('Downloads/Geospatial_Coordinates.csv')\n",
    "coor_df.head()"
   ]
  },
  {
   "cell_type": "markdown",
   "metadata": {},
   "source": [
    "Both dataframes are sorted in preparation for merging"
   ]
  },
  {
   "cell_type": "code",
   "execution_count": 14,
   "metadata": {},
   "outputs": [],
   "source": [
    "coord_df = coor_df.sort_values(['Postal Code'], ascending=True)\n",
    "df = df.sort_values(['Postal Code'], ascending=True)"
   ]
  },
  {
   "cell_type": "markdown",
   "metadata": {},
   "source": [
    "Dataframe sizes are now checked to ensure they are the same before merging"
   ]
  },
  {
   "cell_type": "code",
   "execution_count": 16,
   "metadata": {},
   "outputs": [
    {
     "data": {
      "text/plain": [
       "(103, 3)"
      ]
     },
     "execution_count": 16,
     "metadata": {},
     "output_type": "execute_result"
    }
   ],
   "source": [
    "coor_df.shape"
   ]
  },
  {
   "cell_type": "code",
   "execution_count": 17,
   "metadata": {},
   "outputs": [
    {
     "data": {
      "text/plain": [
       "(103, 3)"
      ]
     },
     "execution_count": 17,
     "metadata": {},
     "output_type": "execute_result"
    }
   ],
   "source": [
    "df.shape"
   ]
  },
  {
   "cell_type": "markdown",
   "metadata": {},
   "source": [
    "And they are. So now, the dataframes are merged."
   ]
  },
  {
   "cell_type": "code",
   "execution_count": 18,
   "metadata": {},
   "outputs": [],
   "source": [
    "tor_df = pd.merge(df, coor_df)"
   ]
  },
  {
   "cell_type": "code",
   "execution_count": 20,
   "metadata": {},
   "outputs": [
    {
     "data": {
      "text/html": [
       "<div>\n",
       "<style scoped>\n",
       "    .dataframe tbody tr th:only-of-type {\n",
       "        vertical-align: middle;\n",
       "    }\n",
       "\n",
       "    .dataframe tbody tr th {\n",
       "        vertical-align: top;\n",
       "    }\n",
       "\n",
       "    .dataframe thead th {\n",
       "        text-align: right;\n",
       "    }\n",
       "</style>\n",
       "<table border=\"1\" class=\"dataframe\">\n",
       "  <thead>\n",
       "    <tr style=\"text-align: right;\">\n",
       "      <th></th>\n",
       "      <th>Postal Code</th>\n",
       "      <th>Borough</th>\n",
       "      <th>Neighborhood</th>\n",
       "      <th>Latitude</th>\n",
       "      <th>Longitude</th>\n",
       "    </tr>\n",
       "  </thead>\n",
       "  <tbody>\n",
       "    <tr>\n",
       "      <th>98</th>\n",
       "      <td>M9N</td>\n",
       "      <td>York</td>\n",
       "      <td>Weston</td>\n",
       "      <td>43.706876</td>\n",
       "      <td>-79.518188</td>\n",
       "    </tr>\n",
       "    <tr>\n",
       "      <th>99</th>\n",
       "      <td>M9P</td>\n",
       "      <td>Etobicoke</td>\n",
       "      <td>Westmount</td>\n",
       "      <td>43.696319</td>\n",
       "      <td>-79.532242</td>\n",
       "    </tr>\n",
       "    <tr>\n",
       "      <th>100</th>\n",
       "      <td>M9R</td>\n",
       "      <td>Etobicoke</td>\n",
       "      <td>Kingsview Village, St. Phillips, Martin Grove ...</td>\n",
       "      <td>43.688905</td>\n",
       "      <td>-79.554724</td>\n",
       "    </tr>\n",
       "    <tr>\n",
       "      <th>101</th>\n",
       "      <td>M9V</td>\n",
       "      <td>Etobicoke</td>\n",
       "      <td>South Steeles, Silverstone, Humbergate, Jamest...</td>\n",
       "      <td>43.739416</td>\n",
       "      <td>-79.588437</td>\n",
       "    </tr>\n",
       "    <tr>\n",
       "      <th>102</th>\n",
       "      <td>M9W</td>\n",
       "      <td>Etobicoke</td>\n",
       "      <td>Northwest, West Humber - Clairville</td>\n",
       "      <td>43.706748</td>\n",
       "      <td>-79.594054</td>\n",
       "    </tr>\n",
       "  </tbody>\n",
       "</table>\n",
       "</div>"
      ],
      "text/plain": [
       "    Postal Code    Borough                                       Neighborhood  \\\n",
       "98          M9N       York                                             Weston   \n",
       "99          M9P  Etobicoke                                          Westmount   \n",
       "100         M9R  Etobicoke  Kingsview Village, St. Phillips, Martin Grove ...   \n",
       "101         M9V  Etobicoke  South Steeles, Silverstone, Humbergate, Jamest...   \n",
       "102         M9W  Etobicoke                Northwest, West Humber - Clairville   \n",
       "\n",
       "      Latitude  Longitude  \n",
       "98   43.706876 -79.518188  \n",
       "99   43.696319 -79.532242  \n",
       "100  43.688905 -79.554724  \n",
       "101  43.739416 -79.588437  \n",
       "102  43.706748 -79.594054  "
      ]
     },
     "execution_count": 20,
     "metadata": {},
     "output_type": "execute_result"
    }
   ],
   "source": [
    "tor_df.tail()"
   ]
  },
  {
   "cell_type": "markdown",
   "metadata": {},
   "source": [
    "We now have a dataframe which contains the coordinates for the neighborhoods. Now, the coordinates for Downtown Toronto are collected."
   ]
  },
  {
   "cell_type": "markdown",
   "metadata": {},
   "source": [
    "Relevant libraries are imported"
   ]
  },
  {
   "cell_type": "code",
   "execution_count": 23,
   "metadata": {},
   "outputs": [],
   "source": [
    "import numpy as np \n",
    "pd.set_option('display.max_columns', None)\n",
    "pd.set_option('display.max_rows', None)\n",
    " \n",
    "from geopy.geocoders import Nominatim \n",
    "from pandas.io.json import json_normalize \n",
    "import matplotlib.cm as cm\n",
    "import matplotlib.colors as colors\n",
    "from sklearn.cluster import KMeans\n",
    "import folium "
   ]
  },
  {
   "cell_type": "markdown",
   "metadata": {},
   "source": [
    "Using geopy, the coordinates are found for Toronto, Ontario."
   ]
  },
  {
   "cell_type": "code",
   "execution_count": 347,
   "metadata": {},
   "outputs": [
    {
     "name": "stdout",
     "output_type": "stream",
     "text": [
      "Coordinates for Toronto, Ontario are: 43.6534817 -79.3839347\n"
     ]
    }
   ],
   "source": [
    "address = 'Toronto, Ontario'\n",
    "\n",
    "geolocator = Nominatim(user_agent=\"tor-explorer\")\n",
    "location = geolocator.geocode(address)\n",
    "latitude = location.latitude\n",
    "longitude = location.longitude\n",
    "\n",
    "print('Coordinates for Toronto, Ontario are:', latitude, longitude)"
   ]
  },
  {
   "cell_type": "markdown",
   "metadata": {},
   "source": [
    "A map can now plotted which displays all of the neighborhoods in Toronto, Ontario."
   ]
  },
  {
   "cell_type": "code",
   "execution_count": 348,
   "metadata": {},
   "outputs": [
    {
     "data": {
      "text/html": [
       "<div style=\"width:100%;\"><div style=\"position:relative;width:100%;height:0;padding-bottom:60%;\"><span style=\"color:#565656\">Make this Notebook Trusted to load map: File -> Trust Notebook</span><iframe src=\"about:blank\" style=\"position:absolute;width:100%;height:100%;left:0;top:0;border:none !important;\" data-html=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 onload=\"this.contentDocument.open();this.contentDocument.write(atob(this.getAttribute('data-html')));this.contentDocument.close();\" allowfullscreen webkitallowfullscreen mozallowfullscreen></iframe></div></div>"
      ],
      "text/plain": [
       "<folium.folium.Map at 0x128e8e98>"
      ]
     },
     "execution_count": 348,
     "metadata": {},
     "output_type": "execute_result"
    }
   ],
   "source": [
    "tor_map = folium.Map(location=[latitude, longitude], zoom_start=9)\n",
    "\n",
    "for lat, lng, borough, neighborhood in zip(tor_df['Latitude'], tor_df['Longitude'], tor_df['Borough'], tor_df['Neighborhood']):\n",
    "    label = '{}, {}'.format(neighborhood, borough)\n",
    "    label = folium.Popup(label, parse_html=True)\n",
    "    folium.CircleMarker(\n",
    "        [lat, lng],\n",
    "        radius=5,\n",
    "        popup=label,\n",
    "        color='blue',\n",
    "        fill=True,\n",
    "        fill_color='#3186cc',\n",
    "        fill_opacity=0.7,\n",
    "        parse_html=False).add_to(tor_map)  \n",
    "    \n",
    "tor_map"
   ]
  },
  {
   "cell_type": "markdown",
   "metadata": {},
   "source": [
    "Next, the foursquare API is used to segment and categorize the boroughs in Toronto."
   ]
  },
  {
   "cell_type": "markdown",
   "metadata": {},
   "source": [
    "Defining client credentials as follows."
   ]
  },
  {
   "cell_type": "code",
   "execution_count": 349,
   "metadata": {},
   "outputs": [],
   "source": [
    "CLIENT_ID = 'MGXVVFJWUPVOXV2EYNF3L2VGUWBF4IUTNX2NO41E2WDYGXVE'\n",
    "CLIENT_SECRET = 'T4FWPMF4P5PUQWPAJVEXBZ0QK5XIE5UETBD2QVCRZXSUPUDO' \n",
    "VERSION = '20180604'"
   ]
  },
  {
   "cell_type": "markdown",
   "metadata": {},
   "source": [
    "Extracting Boroughs coordinates."
   ]
  },
  {
   "cell_type": "code",
   "execution_count": 350,
   "metadata": {},
   "outputs": [
    {
     "name": "stdout",
     "output_type": "stream",
     "text": [
      "Latitude and longitude values of Downtown Toronto are 43.6534817, -79.3839347.\n"
     ]
    }
   ],
   "source": [
    "tor_latitude = tor_df.loc[50, 'Latitude'] \n",
    "tor_longitude = tor_df.loc[50, 'Longitude'] \n",
    "tor_name = tor_df.loc[50, 'Borough'] \n",
    "\n",
    "print('Latitude and longitude values of {} are {}, {}.'.format(tor_name, latitude, longitude))"
   ]
  },
  {
   "cell_type": "markdown",
   "metadata": {},
   "source": [
    "Here, the radius from the coordinates and limit of returned values is defined for our search to give to most popular venues in the area. "
   ]
  },
  {
   "cell_type": "code",
   "execution_count": 358,
   "metadata": {},
   "outputs": [
    {
     "data": {
      "text/plain": [
       "'https://api.foursquare.com/v2/venues/explore?&client_id=MGXVVFJWUPVOXV2EYNF3L2VGUWBF4IUTNX2NO41E2WDYGXVE&client_secret=T4FWPMF4P5PUQWPAJVEXBZ0QK5XIE5UETBD2QVCRZXSUPUDO&v=20180604&ll=43.6534817,-79.3839347&radius=1500&limit=100'"
      ]
     },
     "execution_count": 358,
     "metadata": {},
     "output_type": "execute_result"
    }
   ],
   "source": [
    "limit = 100\n",
    "radius = 1500\n",
    "\n",
    "url = 'https://api.foursquare.com/v2/venues/explore?&client_id={}&client_secret={}&v={}&ll={},{}&radius={}&limit={}'.format(CLIENT_ID, CLIENT_SECRET, VERSION, latitude, longitude, radius, limit)\n",
    "\n",
    "url "
   ]
  },
  {
   "cell_type": "code",
   "execution_count": 359,
   "metadata": {},
   "outputs": [],
   "source": [
    "results = requests.get(url).json()"
   ]
  },
  {
   "cell_type": "markdown",
   "metadata": {},
   "source": [
    "A function is now created to extract the category of venues."
   ]
  },
  {
   "cell_type": "code",
   "execution_count": 360,
   "metadata": {},
   "outputs": [],
   "source": [
    "def get_category_type(row):\n",
    "    try:\n",
    "        categories_list = row['categories']\n",
    "    except:\n",
    "        categories_list = row['venue.categories']\n",
    "        \n",
    "    if len(categories_list) == 0:\n",
    "        return None\n",
    "    else:\n",
    "        return categories_list[0]['name']"
   ]
  },
  {
   "cell_type": "markdown",
   "metadata": {},
   "source": [
    "Creating a dataframe containing near by venues."
   ]
  },
  {
   "cell_type": "code",
   "execution_count": 361,
   "metadata": {},
   "outputs": [
    {
     "name": "stdout",
     "output_type": "stream",
     "text": [
      "Number of venues: 100\n"
     ]
    },
    {
     "name": "stderr",
     "output_type": "stream",
     "text": [
      "<ipython-input-361-943c7b5d134a>:3: FutureWarning: pandas.io.json.json_normalize is deprecated, use pandas.json_normalize instead\n",
      "  nearby_venues = json_normalize(venues)\n"
     ]
    }
   ],
   "source": [
    "venues = results['response']['groups'][0]['items']\n",
    "    \n",
    "nearby_venues = json_normalize(venues) \n",
    "\n",
    "filtered_columns = ['venue.name', 'venue.categories', 'venue.location.lat', 'venue.location.lng']\n",
    "nearby_venues =nearby_venues.loc[:, filtered_columns]\n",
    "\n",
    "nearby_venues['venue.categories'] = nearby_venues.apply(get_category_type, axis=1)\n",
    "\n",
    "nearby_venues.columns = [col.split(\".\")[-1] for col in nearby_venues.columns]\n",
    "\n",
    "print('Number of venues: {}'.format(nearby_venues.shape[0]))"
   ]
  },
  {
   "cell_type": "code",
   "execution_count": 362,
   "metadata": {},
   "outputs": [
    {
     "data": {
      "text/html": [
       "<div>\n",
       "<style scoped>\n",
       "    .dataframe tbody tr th:only-of-type {\n",
       "        vertical-align: middle;\n",
       "    }\n",
       "\n",
       "    .dataframe tbody tr th {\n",
       "        vertical-align: top;\n",
       "    }\n",
       "\n",
       "    .dataframe thead th {\n",
       "        text-align: right;\n",
       "    }\n",
       "</style>\n",
       "<table border=\"1\" class=\"dataframe\">\n",
       "  <thead>\n",
       "    <tr style=\"text-align: right;\">\n",
       "      <th></th>\n",
       "      <th>name</th>\n",
       "      <th>categories</th>\n",
       "      <th>lat</th>\n",
       "      <th>lng</th>\n",
       "    </tr>\n",
       "  </thead>\n",
       "  <tbody>\n",
       "    <tr>\n",
       "      <th>0</th>\n",
       "      <td>Downtown Toronto</td>\n",
       "      <td>Neighborhood</td>\n",
       "      <td>43.653232</td>\n",
       "      <td>-79.385296</td>\n",
       "    </tr>\n",
       "    <tr>\n",
       "      <th>1</th>\n",
       "      <td>Nathan Phillips Square</td>\n",
       "      <td>Plaza</td>\n",
       "      <td>43.652270</td>\n",
       "      <td>-79.383516</td>\n",
       "    </tr>\n",
       "    <tr>\n",
       "      <th>2</th>\n",
       "      <td>Indigo</td>\n",
       "      <td>Bookstore</td>\n",
       "      <td>43.653515</td>\n",
       "      <td>-79.380696</td>\n",
       "    </tr>\n",
       "    <tr>\n",
       "      <th>3</th>\n",
       "      <td>UNIQLO ユニクロ</td>\n",
       "      <td>Clothing Store</td>\n",
       "      <td>43.655910</td>\n",
       "      <td>-79.380641</td>\n",
       "    </tr>\n",
       "    <tr>\n",
       "      <th>4</th>\n",
       "      <td>CF Toronto Eaton Centre</td>\n",
       "      <td>Shopping Mall</td>\n",
       "      <td>43.654540</td>\n",
       "      <td>-79.380677</td>\n",
       "    </tr>\n",
       "  </tbody>\n",
       "</table>\n",
       "</div>"
      ],
      "text/plain": [
       "                      name      categories        lat        lng\n",
       "0         Downtown Toronto    Neighborhood  43.653232 -79.385296\n",
       "1   Nathan Phillips Square           Plaza  43.652270 -79.383516\n",
       "2                   Indigo       Bookstore  43.653515 -79.380696\n",
       "3              UNIQLO ユニクロ  Clothing Store  43.655910 -79.380641\n",
       "4  CF Toronto Eaton Centre   Shopping Mall  43.654540 -79.380677"
      ]
     },
     "execution_count": 362,
     "metadata": {},
     "output_type": "execute_result"
    }
   ],
   "source": [
    "nearby_venues.head()"
   ]
  },
  {
   "cell_type": "code",
   "execution_count": 363,
   "metadata": {},
   "outputs": [
    {
     "data": {
      "text/plain": [
       "name          21\n",
       "categories    21\n",
       "lat           21\n",
       "lng           21\n",
       "dtype: int64"
      ]
     },
     "execution_count": 363,
     "metadata": {},
     "output_type": "execute_result"
    }
   ],
   "source": [
    "nearby_rests = nearby_venues[nearby_venues['categories'].str.contains(\"Restaurant\")]\n",
    "nearby_rests.count(axis=0)"
   ]
  },
  {
   "cell_type": "markdown",
   "metadata": {},
   "source": [
    "We can see from the dataset that we have a total of 21 restaurants in the surrounding area. "
   ]
  },
  {
   "cell_type": "code",
   "execution_count": 364,
   "metadata": {},
   "outputs": [
    {
     "data": {
      "text/plain": [
       "Japanese Restaurant              5\n",
       "Restaurant                       4\n",
       "Thai Restaurant                  3\n",
       "Italian Restaurant               2\n",
       "Ramen Restaurant                 1\n",
       "American Restaurant              1\n",
       "Mediterranean Restaurant         1\n",
       "Vegetarian / Vegan Restaurant    1\n",
       "New American Restaurant          1\n",
       "French Restaurant                1\n",
       "Middle Eastern Restaurant        1\n",
       "Name: categories, dtype: int64"
      ]
     },
     "execution_count": 364,
     "metadata": {},
     "output_type": "execute_result"
    }
   ],
   "source": [
    "nearby_rests['categories'].value_counts()"
   ]
  },
  {
   "cell_type": "markdown",
   "metadata": {},
   "source": [
    "We can also see that the most popular restaurants are:\n",
    "\n",
    "1. Japanese\n",
    "2. General restaurant\n",
    "3. Thai\n",
    "\n",
    "Next, the data is compared with the number and themes of restaurants in Downtown Toronto. \n",
    "\n",
    "The same steps above are applied to a dataset containing the same information but just for Downtown Toronto. "
   ]
  },
  {
   "cell_type": "markdown",
   "metadata": {},
   "source": [
    "Creating the dataframe with all data for Downtown Toronto for the analysis."
   ]
  },
  {
   "cell_type": "code",
   "execution_count": 365,
   "metadata": {},
   "outputs": [
    {
     "data": {
      "text/html": [
       "<div>\n",
       "<style scoped>\n",
       "    .dataframe tbody tr th:only-of-type {\n",
       "        vertical-align: middle;\n",
       "    }\n",
       "\n",
       "    .dataframe tbody tr th {\n",
       "        vertical-align: top;\n",
       "    }\n",
       "\n",
       "    .dataframe thead th {\n",
       "        text-align: right;\n",
       "    }\n",
       "</style>\n",
       "<table border=\"1\" class=\"dataframe\">\n",
       "  <thead>\n",
       "    <tr style=\"text-align: right;\">\n",
       "      <th></th>\n",
       "      <th>Postal Code</th>\n",
       "      <th>Borough</th>\n",
       "      <th>Neighborhood</th>\n",
       "      <th>Latitude</th>\n",
       "      <th>Longitude</th>\n",
       "    </tr>\n",
       "  </thead>\n",
       "  <tbody>\n",
       "    <tr>\n",
       "      <th>0</th>\n",
       "      <td>M4W</td>\n",
       "      <td>Downtown Toronto</td>\n",
       "      <td>Rosedale</td>\n",
       "      <td>43.679563</td>\n",
       "      <td>-79.377529</td>\n",
       "    </tr>\n",
       "    <tr>\n",
       "      <th>1</th>\n",
       "      <td>M4X</td>\n",
       "      <td>Downtown Toronto</td>\n",
       "      <td>St. James Town, Cabbagetown</td>\n",
       "      <td>43.667967</td>\n",
       "      <td>-79.367675</td>\n",
       "    </tr>\n",
       "    <tr>\n",
       "      <th>2</th>\n",
       "      <td>M4Y</td>\n",
       "      <td>Downtown Toronto</td>\n",
       "      <td>Church and Wellesley</td>\n",
       "      <td>43.665860</td>\n",
       "      <td>-79.383160</td>\n",
       "    </tr>\n",
       "    <tr>\n",
       "      <th>3</th>\n",
       "      <td>M5A</td>\n",
       "      <td>Downtown Toronto</td>\n",
       "      <td>Regent Park, Harbourfront</td>\n",
       "      <td>43.654260</td>\n",
       "      <td>-79.360636</td>\n",
       "    </tr>\n",
       "    <tr>\n",
       "      <th>4</th>\n",
       "      <td>M5B</td>\n",
       "      <td>Downtown Toronto</td>\n",
       "      <td>Garden District, Ryerson</td>\n",
       "      <td>43.657162</td>\n",
       "      <td>-79.378937</td>\n",
       "    </tr>\n",
       "  </tbody>\n",
       "</table>\n",
       "</div>"
      ],
      "text/plain": [
       "  Postal Code           Borough                 Neighborhood   Latitude  \\\n",
       "0         M4W  Downtown Toronto                     Rosedale  43.679563   \n",
       "1         M4X  Downtown Toronto  St. James Town, Cabbagetown  43.667967   \n",
       "2         M4Y  Downtown Toronto         Church and Wellesley  43.665860   \n",
       "3         M5A  Downtown Toronto    Regent Park, Harbourfront  43.654260   \n",
       "4         M5B  Downtown Toronto     Garden District, Ryerson  43.657162   \n",
       "\n",
       "   Longitude  \n",
       "0 -79.377529  \n",
       "1 -79.367675  \n",
       "2 -79.383160  \n",
       "3 -79.360636  \n",
       "4 -79.378937  "
      ]
     },
     "execution_count": 365,
     "metadata": {},
     "output_type": "execute_result"
    }
   ],
   "source": [
    "dt_df = tor_df[tor_df['Borough'] == 'Downtown Toronto'].reset_index(drop=True)\n",
    "dt_df.head()"
   ]
  },
  {
   "cell_type": "markdown",
   "metadata": {},
   "source": [
    "Coordinates for Downtown Toronto"
   ]
  },
  {
   "cell_type": "code",
   "execution_count": 366,
   "metadata": {},
   "outputs": [
    {
     "name": "stdout",
     "output_type": "stream",
     "text": [
      "43.6541737 -79.38081164513409\n"
     ]
    }
   ],
   "source": [
    "address = 'Downtown Toronto, Toronto'\n",
    "\n",
    "geolocator = Nominatim(user_agent=\"ny_explorer\")\n",
    "location = geolocator.geocode(address)\n",
    "latitude = location.latitude\n",
    "longitude = location.longitude\n",
    "\n",
    "print(latitude, longitude)"
   ]
  },
  {
   "cell_type": "markdown",
   "metadata": {},
   "source": [
    "Map for Downtown Toronto"
   ]
  },
  {
   "cell_type": "code",
   "execution_count": 367,
   "metadata": {},
   "outputs": [
    {
     "data": {
      "text/html": [
       "<div style=\"width:100%;\"><div style=\"position:relative;width:100%;height:0;padding-bottom:60%;\"><span style=\"color:#565656\">Make this Notebook Trusted to load map: File -> Trust Notebook</span><iframe src=\"about:blank\" style=\"position:absolute;width:100%;height:100%;left:0;top:0;border:none !important;\" data-html=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 onload=\"this.contentDocument.open();this.contentDocument.write(atob(this.getAttribute('data-html')));this.contentDocument.close();\" allowfullscreen webkitallowfullscreen mozallowfullscreen></iframe></div></div>"
      ],
      "text/plain": [
       "<folium.folium.Map at 0x12bb5640>"
      ]
     },
     "execution_count": 367,
     "metadata": {},
     "output_type": "execute_result"
    }
   ],
   "source": [
    "dt_map = folium.Map(location=[latitude, longitude], zoom_start=12)\n",
    "\n",
    "# add markers to map\n",
    "for lat, lng, label in zip(dt_df['Latitude'], dt_df['Longitude'], dt_df['Neighborhood']):\n",
    "    label = folium.Popup(label, parse_html=True)\n",
    "    folium.CircleMarker(\n",
    "        [lat, lng],\n",
    "        radius=5,\n",
    "        popup=label,\n",
    "        color='blue',\n",
    "        fill=True,\n",
    "        fill_color='#3186cc',\n",
    "        fill_opacity=0.7,\n",
    "        parse_html=False).add_to(dt_map)  \n",
    "    \n",
    "dt_map"
   ]
  },
  {
   "cell_type": "code",
   "execution_count": 397,
   "metadata": {},
   "outputs": [
    {
     "name": "stdout",
     "output_type": "stream",
     "text": [
      "Coordinates for Downtown Toronto, Ontario are: 43.6563221 -79.3809161\n"
     ]
    }
   ],
   "source": [
    "address = 'Downtown Toronto, Ontario'\n",
    "\n",
    "geolocator = Nominatim(user_agent=\"tor-explorer\")\n",
    "location = geolocator.geocode(address)\n",
    "latitude = location.latitude\n",
    "longitude = location.longitude\n",
    "\n",
    "print('Coordinates for Downtown Toronto, Ontario are:', latitude, longitude)"
   ]
  },
  {
   "cell_type": "code",
   "execution_count": 398,
   "metadata": {},
   "outputs": [],
   "source": [
    "dt_latitude = dt_df.loc[0, 'Latitude'] \n",
    "dt_longitude = dt_df.loc[0, 'Longitude'] \n",
    "dt_name = dt_df.loc[0, 'Borough'] "
   ]
  },
  {
   "cell_type": "code",
   "execution_count": 399,
   "metadata": {},
   "outputs": [
    {
     "data": {
      "text/plain": [
       "'https://api.foursquare.com/v2/venues/explore?&client_id=MGXVVFJWUPVOXV2EYNF3L2VGUWBF4IUTNX2NO41E2WDYGXVE&client_secret=T4FWPMF4P5PUQWPAJVEXBZ0QK5XIE5UETBD2QVCRZXSUPUDO&v=20180604&ll=43.6563221,-79.3809161&radius=1500&limit=100'"
      ]
     },
     "execution_count": 399,
     "metadata": {},
     "output_type": "execute_result"
    }
   ],
   "source": [
    "limit = 100\n",
    "radius = 1500\n",
    "\n",
    "url = 'https://api.foursquare.com/v2/venues/explore?&client_id={}&client_secret={}&v={}&ll={},{}&radius={}&limit={}'.format(CLIENT_ID, CLIENT_SECRET, VERSION, latitude, longitude, radius, limit)\n",
    "\n",
    "url "
   ]
  },
  {
   "cell_type": "code",
   "execution_count": 400,
   "metadata": {},
   "outputs": [],
   "source": [
    "results = requests.get(url).json()"
   ]
  },
  {
   "cell_type": "code",
   "execution_count": 401,
   "metadata": {},
   "outputs": [
    {
     "name": "stdout",
     "output_type": "stream",
     "text": [
      "Number of venues: 100\n"
     ]
    },
    {
     "name": "stderr",
     "output_type": "stream",
     "text": [
      "<ipython-input-401-bb74f439d066>:2: FutureWarning: pandas.io.json.json_normalize is deprecated, use pandas.json_normalize instead\n",
      "  nearby_venues_dt = json_normalize(venues)\n"
     ]
    }
   ],
   "source": [
    "venues = results['response']['groups'][0]['items']   \n",
    "nearby_venues_dt = json_normalize(venues) \n",
    "filtered_columns = ['venue.name', 'venue.categories', 'venue.location.lat', 'venue.location.lng']\n",
    "nearby_venues_dt = nearby_venues_dt.loc[:, filtered_columns]\n",
    "nearby_venues_dt['venue.categories'] = nearby_venues_dt.apply(get_category_type, axis=1)\n",
    "nearby_venues_dt.columns = [col.split(\".\")[-1] for col in nearby_venues_dt.columns]\n",
    "\n",
    "print('Number of venues: {}'.format(nearby_venues_dt.shape[0]))"
   ]
  },
  {
   "cell_type": "code",
   "execution_count": 405,
   "metadata": {},
   "outputs": [
    {
     "data": {
      "text/html": [
       "<div>\n",
       "<style scoped>\n",
       "    .dataframe tbody tr th:only-of-type {\n",
       "        vertical-align: middle;\n",
       "    }\n",
       "\n",
       "    .dataframe tbody tr th {\n",
       "        vertical-align: top;\n",
       "    }\n",
       "\n",
       "    .dataframe thead th {\n",
       "        text-align: right;\n",
       "    }\n",
       "</style>\n",
       "<table border=\"1\" class=\"dataframe\">\n",
       "  <thead>\n",
       "    <tr style=\"text-align: right;\">\n",
       "      <th></th>\n",
       "      <th>name</th>\n",
       "      <th>categories</th>\n",
       "      <th>lat</th>\n",
       "      <th>lng</th>\n",
       "    </tr>\n",
       "  </thead>\n",
       "  <tbody>\n",
       "    <tr>\n",
       "      <th>0</th>\n",
       "      <td>UNIQLO ユニクロ</td>\n",
       "      <td>Clothing Store</td>\n",
       "      <td>43.655910</td>\n",
       "      <td>-79.380641</td>\n",
       "    </tr>\n",
       "    <tr>\n",
       "      <th>1</th>\n",
       "      <td>Ed Mirvish Theatre</td>\n",
       "      <td>Theater</td>\n",
       "      <td>43.655102</td>\n",
       "      <td>-79.379768</td>\n",
       "    </tr>\n",
       "    <tr>\n",
       "      <th>2</th>\n",
       "      <td>Blaze Pizza</td>\n",
       "      <td>Pizza Place</td>\n",
       "      <td>43.656518</td>\n",
       "      <td>-79.380015</td>\n",
       "    </tr>\n",
       "    <tr>\n",
       "      <th>3</th>\n",
       "      <td>CF Toronto Eaton Centre</td>\n",
       "      <td>Shopping Mall</td>\n",
       "      <td>43.654540</td>\n",
       "      <td>-79.380677</td>\n",
       "    </tr>\n",
       "    <tr>\n",
       "      <th>4</th>\n",
       "      <td>Burrito Boyz</td>\n",
       "      <td>Burrito Place</td>\n",
       "      <td>43.656265</td>\n",
       "      <td>-79.378343</td>\n",
       "    </tr>\n",
       "  </tbody>\n",
       "</table>\n",
       "</div>"
      ],
      "text/plain": [
       "                      name      categories        lat        lng\n",
       "0              UNIQLO ユニクロ  Clothing Store  43.655910 -79.380641\n",
       "1       Ed Mirvish Theatre         Theater  43.655102 -79.379768\n",
       "2              Blaze Pizza     Pizza Place  43.656518 -79.380015\n",
       "3  CF Toronto Eaton Centre   Shopping Mall  43.654540 -79.380677\n",
       "4             Burrito Boyz   Burrito Place  43.656265 -79.378343"
      ]
     },
     "execution_count": 405,
     "metadata": {},
     "output_type": "execute_result"
    }
   ],
   "source": [
    "nearby_venues_dt.head()"
   ]
  },
  {
   "cell_type": "code",
   "execution_count": 406,
   "metadata": {},
   "outputs": [
    {
     "data": {
      "text/html": [
       "<div>\n",
       "<style scoped>\n",
       "    .dataframe tbody tr th:only-of-type {\n",
       "        vertical-align: middle;\n",
       "    }\n",
       "\n",
       "    .dataframe tbody tr th {\n",
       "        vertical-align: top;\n",
       "    }\n",
       "\n",
       "    .dataframe thead th {\n",
       "        text-align: right;\n",
       "    }\n",
       "</style>\n",
       "<table border=\"1\" class=\"dataframe\">\n",
       "  <thead>\n",
       "    <tr style=\"text-align: right;\">\n",
       "      <th></th>\n",
       "      <th>name</th>\n",
       "      <th>categories</th>\n",
       "      <th>lat</th>\n",
       "      <th>lng</th>\n",
       "    </tr>\n",
       "  </thead>\n",
       "  <tbody>\n",
       "    <tr>\n",
       "      <th>0</th>\n",
       "      <td>Downtown Toronto</td>\n",
       "      <td>Neighborhood</td>\n",
       "      <td>43.653232</td>\n",
       "      <td>-79.385296</td>\n",
       "    </tr>\n",
       "    <tr>\n",
       "      <th>1</th>\n",
       "      <td>Nathan Phillips Square</td>\n",
       "      <td>Plaza</td>\n",
       "      <td>43.652270</td>\n",
       "      <td>-79.383516</td>\n",
       "    </tr>\n",
       "    <tr>\n",
       "      <th>2</th>\n",
       "      <td>Indigo</td>\n",
       "      <td>Bookstore</td>\n",
       "      <td>43.653515</td>\n",
       "      <td>-79.380696</td>\n",
       "    </tr>\n",
       "    <tr>\n",
       "      <th>3</th>\n",
       "      <td>UNIQLO ユニクロ</td>\n",
       "      <td>Clothing Store</td>\n",
       "      <td>43.655910</td>\n",
       "      <td>-79.380641</td>\n",
       "    </tr>\n",
       "    <tr>\n",
       "      <th>4</th>\n",
       "      <td>CF Toronto Eaton Centre</td>\n",
       "      <td>Shopping Mall</td>\n",
       "      <td>43.654540</td>\n",
       "      <td>-79.380677</td>\n",
       "    </tr>\n",
       "  </tbody>\n",
       "</table>\n",
       "</div>"
      ],
      "text/plain": [
       "                      name      categories        lat        lng\n",
       "0         Downtown Toronto    Neighborhood  43.653232 -79.385296\n",
       "1   Nathan Phillips Square           Plaza  43.652270 -79.383516\n",
       "2                   Indigo       Bookstore  43.653515 -79.380696\n",
       "3              UNIQLO ユニクロ  Clothing Store  43.655910 -79.380641\n",
       "4  CF Toronto Eaton Centre   Shopping Mall  43.654540 -79.380677"
      ]
     },
     "execution_count": 406,
     "metadata": {},
     "output_type": "execute_result"
    }
   ],
   "source": [
    "nearby_venues.head()"
   ]
  },
  {
   "cell_type": "code",
   "execution_count": 403,
   "metadata": {},
   "outputs": [
    {
     "data": {
      "text/plain": [
       "name          20\n",
       "categories    20\n",
       "lat           20\n",
       "lng           20\n",
       "dtype: int64"
      ]
     },
     "execution_count": 403,
     "metadata": {},
     "output_type": "execute_result"
    }
   ],
   "source": [
    "nearby_rests_dt = nearby_venues_dt[nearby_venues_dt['categories'].str.contains(\"Restaurant\")]\n",
    "nearby_rests_dt.count(axis=0)"
   ]
  },
  {
   "cell_type": "code",
   "execution_count": 411,
   "metadata": {},
   "outputs": [
    {
     "data": {
      "text/plain": [
       "Japanese Restaurant              4\n",
       "Italian Restaurant               4\n",
       "Thai Restaurant                  3\n",
       "Ramen Restaurant                 1\n",
       "Restaurant                       1\n",
       "American Restaurant              1\n",
       "Mediterranean Restaurant         1\n",
       "Theme Restaurant                 1\n",
       "German Restaurant                1\n",
       "New American Restaurant          1\n",
       "Vegetarian / Vegan Restaurant    1\n",
       "Middle Eastern Restaurant        1\n",
       "Name: categories, dtype: int64"
      ]
     },
     "execution_count": 411,
     "metadata": {},
     "output_type": "execute_result"
    }
   ],
   "source": [
    "nearby_rests_dt['categories'].value_counts()"
   ]
  },
  {
   "cell_type": "code",
   "execution_count": 409,
   "metadata": {},
   "outputs": [
    {
     "data": {
      "text/plain": [
       "Japanese Restaurant              5\n",
       "Restaurant                       4\n",
       "Thai Restaurant                  3\n",
       "Italian Restaurant               2\n",
       "Ramen Restaurant                 1\n",
       "American Restaurant              1\n",
       "Mediterranean Restaurant         1\n",
       "Vegetarian / Vegan Restaurant    1\n",
       "New American Restaurant          1\n",
       "French Restaurant                1\n",
       "Middle Eastern Restaurant        1\n",
       "Name: categories, dtype: int64"
      ]
     },
     "execution_count": 409,
     "metadata": {},
     "output_type": "execute_result"
    }
   ],
   "source": [
    "nearby_rests['categories'].value_counts()"
   ]
  },
  {
   "cell_type": "markdown",
   "metadata": {},
   "source": [
    "From these two datasets we can see that the most abundant restaurants in Toronto and Downtown Toronto are Japanese restaurants which is no surprise. Follwing this, the next most abundant in Toronto is a general food restaurant which there seems to be only 1 of in Downtown Toronto. Finally, the Thai restaurant is the third most popular in Toronto which is also true for downtown Toronto. So, based on the findings for the top 3 most popular restaurants in both areas, there appears to be a gap in the market for a general food restaurant in the Downtown Toronto area so this is what will be suggested to the client. \n",
    "\n",
    "To further assist the client, the location of the general restaurant ion the Downtown Toronto area will be plotted on a map so the client can make an informaed descision about where to place the new restaurant."
   ]
  },
  {
   "cell_type": "code",
   "execution_count": 428,
   "metadata": {},
   "outputs": [
    {
     "data": {
      "text/html": [
       "<div>\n",
       "<style scoped>\n",
       "    .dataframe tbody tr th:only-of-type {\n",
       "        vertical-align: middle;\n",
       "    }\n",
       "\n",
       "    .dataframe tbody tr th {\n",
       "        vertical-align: top;\n",
       "    }\n",
       "\n",
       "    .dataframe thead th {\n",
       "        text-align: right;\n",
       "    }\n",
       "</style>\n",
       "<table border=\"1\" class=\"dataframe\">\n",
       "  <thead>\n",
       "    <tr style=\"text-align: right;\">\n",
       "      <th></th>\n",
       "      <th>name</th>\n",
       "      <th>categories</th>\n",
       "      <th>lat</th>\n",
       "      <th>lng</th>\n",
       "    </tr>\n",
       "  </thead>\n",
       "  <tbody>\n",
       "    <tr>\n",
       "      <th>26</th>\n",
       "      <td>GEORGE Restaurant</td>\n",
       "      <td>Restaurant</td>\n",
       "      <td>43.653346</td>\n",
       "      <td>-79.374445</td>\n",
       "    </tr>\n",
       "  </tbody>\n",
       "</table>\n",
       "</div>"
      ],
      "text/plain": [
       "                 name  categories        lat        lng\n",
       "26  GEORGE Restaurant  Restaurant  43.653346 -79.374445"
      ]
     },
     "execution_count": 428,
     "metadata": {},
     "output_type": "execute_result"
    }
   ],
   "source": [
    "general_rest = nearby_rests_dt[nearby_rests_dt['categories'] == 'Restaurant']\n",
    "general_rest.head()"
   ]
  },
  {
   "cell_type": "code",
   "execution_count": 433,
   "metadata": {},
   "outputs": [
    {
     "data": {
      "text/html": [
       "<div style=\"width:100%;\"><div style=\"position:relative;width:100%;height:0;padding-bottom:60%;\"><span style=\"color:#565656\">Make this Notebook Trusted to load map: File -> Trust Notebook</span><iframe src=\"about:blank\" style=\"position:absolute;width:100%;height:100%;left:0;top:0;border:none !important;\" data-html=PCFET0NUWVBFIGh0bWw+CjxoZWFkPiAgICAKICAgIDxtZXRhIGh0dHAtZXF1aXY9ImNvbnRlbnQtdHlwZSIgY29udGVudD0idGV4dC9odG1sOyBjaGFyc2V0PVVURi04IiAvPgogICAgCiAgICAgICAgPHNjcmlwdD4KICAgICAgICAgICAgTF9OT19UT1VDSCA9IGZhbHNlOwogICAgICAgICAgICBMX0RJU0FCTEVfM0QgPSBmYWxzZTsKICAgICAgICA8L3NjcmlwdD4KICAgIAogICAgPHNjcmlwdCBzcmM9Imh0dHBzOi8vY2RuLmpzZGVsaXZyLm5ldC9ucG0vbGVhZmxldEAxLjYuMC9kaXN0L2xlYWZsZXQuanMiPjwvc2NyaXB0PgogICAgPHNjcmlwdCBzcmM9Imh0dHBzOi8vY29kZS5qcXVlcnkuY29tL2pxdWVyeS0xLjEyLjQubWluLmpzIj48L3NjcmlwdD4KICAgIDxzY3JpcHQgc3JjPSJodHRwczovL21heGNkbi5ib290c3RyYXBjZG4uY29tL2Jvb3RzdHJhcC8zLjIuMC9qcy9ib290c3RyYXAubWluLmpzIj48L3NjcmlwdD4KICAgIDxzY3JpcHQgc3JjPSJodHRwczovL2NkbmpzLmNsb3VkZmxhcmUuY29tL2FqYXgvbGlicy9MZWFmbGV0LmF3ZXNvbWUtbWFya2Vycy8yLjAuMi9sZWFmbGV0LmF3ZXNvbWUtbWFya2Vycy5qcyI+PC9zY3JpcHQ+CiAgICA8bGluayByZWw9InN0eWxlc2hlZXQiIGhyZWY9Imh0dHBzOi8vY2RuLmpzZGVsaXZyLm5ldC9ucG0vbGVhZmxldEAxLjYuMC9kaXN0L2xlYWZsZXQuY3NzIi8+CiAgICA8bGluayByZWw9InN0eWxlc2hlZXQiIGhyZWY9Imh0dHBzOi8vbWF4Y2RuLmJvb3RzdHJhcGNkbi5jb20vYm9vdHN0cmFwLzMuMi4wL2Nzcy9ib290c3RyYXAubWluLmNzcyIvPgogICAgPGxpbmsgcmVsPSJzdHlsZXNoZWV0IiBocmVmPSJodHRwczovL21heGNkbi5ib290c3RyYXBjZG4uY29tL2Jvb3RzdHJhcC8zLjIuMC9jc3MvYm9vdHN0cmFwLXRoZW1lLm1pbi5jc3MiLz4KICAgIDxsaW5rIHJlbD0ic3R5bGVzaGVldCIgaHJlZj0iaHR0cHM6Ly9tYXhjZG4uYm9vdHN0cmFwY2RuLmNvbS9mb250LWF3ZXNvbWUvNC42LjMvY3NzL2ZvbnQtYXdlc29tZS5taW4uY3NzIi8+CiAgICA8bGluayByZWw9InN0eWxlc2hlZXQiIGhyZWY9Imh0dHBzOi8vY2RuanMuY2xvdWRmbGFyZS5jb20vYWpheC9saWJzL0xlYWZsZXQuYXdlc29tZS1tYXJrZXJzLzIuMC4yL2xlYWZsZXQuYXdlc29tZS1tYXJrZXJzLmNzcyIvPgogICAgPGxpbmsgcmVsPSJzdHlsZXNoZWV0IiBocmVmPSJodHRwczovL3Jhd2Nkbi5naXRoYWNrLmNvbS9weXRob24tdmlzdWFsaXphdGlvbi9mb2xpdW0vbWFzdGVyL2ZvbGl1bS90ZW1wbGF0ZXMvbGVhZmxldC5hd2Vzb21lLnJvdGF0ZS5jc3MiLz4KICAgIDxzdHlsZT5odG1sLCBib2R5IHt3aWR0aDogMTAwJTtoZWlnaHQ6IDEwMCU7bWFyZ2luOiAwO3BhZGRpbmc6IDA7fTwvc3R5bGU+CiAgICA8c3R5bGU+I21hcCB7cG9zaXRpb246YWJzb2x1dGU7dG9wOjA7Ym90dG9tOjA7cmlnaHQ6MDtsZWZ0OjA7fTwvc3R5bGU+CiAgICAKICAgICAgICAgICAgPG1ldGEgbmFtZT0idmlld3BvcnQiIGNvbnRlbnQ9IndpZHRoPWRldmljZS13aWR0aCwKICAgICAgICAgICAgICAgIGluaXRpYWwtc2NhbGU9MS4wLCBtYXhpbXVtLXNjYWxlPTEuMCwgdXNlci1zY2FsYWJsZT1ubyIgLz4KICAgICAgICAgICAgPHN0eWxlPgogICAgICAgICAgICAgICAgI21hcF9lNTE0NDgyOTQ4NjI0MWFlODE1YzE0YWIwMmI4YTNjZSB7CiAgICAgICAgICAgICAgICAgICAgcG9zaXRpb246IHJlbGF0aXZlOwogICAgICAgICAgICAgICAgICAgIHdpZHRoOiAxMDAuMCU7CiAgICAgICAgICAgICAgICAgICAgaGVpZ2h0OiAxMDAuMCU7CiAgICAgICAgICAgICAgICAgICAgbGVmdDogMC4wJTsKICAgICAgICAgICAgICAgICAgICB0b3A6IDAuMCU7CiAgICAgICAgICAgICAgICB9CiAgICAgICAgICAgIDwvc3R5bGU+CiAgICAgICAgCjwvaGVhZD4KPGJvZHk+ICAgIAogICAgCiAgICAgICAgICAgIDxkaXYgY2xhc3M9ImZvbGl1bS1tYXAiIGlkPSJtYXBfZTUxNDQ4Mjk0ODYyNDFhZTgxNWMxNGFiMDJiOGEzY2UiID48L2Rpdj4KICAgICAgICAKPC9ib2R5Pgo8c2NyaXB0PiAgICAKICAgIAogICAgICAgICAgICB2YXIgbWFwX2U1MTQ0ODI5NDg2MjQxYWU4MTVjMTRhYjAyYjhhM2NlID0gTC5tYXAoCiAgICAgICAgICAgICAgICAibWFwX2U1MTQ0ODI5NDg2MjQxYWU4MTVjMTRhYjAyYjhhM2NlIiwKICAgICAgICAgICAgICAgIHsKICAgICAgICAgICAgICAgICAgICBjZW50ZXI6IFs0My42NTYzMjIxLCAtNzkuMzgwOTE2MV0sCiAgICAgICAgICAgICAgICAgICAgY3JzOiBMLkNSUy5FUFNHMzg1NywKICAgICAgICAgICAgICAgICAgICB6b29tOiAxNCwKICAgICAgICAgICAgICAgICAgICB6b29tQ29udHJvbDogdHJ1ZSwKICAgICAgICAgICAgICAgICAgICBwcmVmZXJDYW52YXM6IGZhbHNlLAogICAgICAgICAgICAgICAgfQogICAgICAgICAgICApOwoKICAgICAgICAgICAgCgogICAgICAgIAogICAgCiAgICAgICAgICAgIHZhciB0aWxlX2xheWVyX2MwMWMxNjdjZDNjOTRjOTZhMjc2NjI4OGIyZTMwMzVlID0gTC50aWxlTGF5ZXIoCiAgICAgICAgICAgICAgICAiaHR0cHM6Ly97c30udGlsZS5vcGVuc3RyZWV0bWFwLm9yZy97en0ve3h9L3t5fS5wbmciLAogICAgICAgICAgICAgICAgeyJhdHRyaWJ1dGlvbiI6ICJEYXRhIGJ5IFx1MDAyNmNvcHk7IFx1MDAzY2EgaHJlZj1cImh0dHA6Ly9vcGVuc3RyZWV0bWFwLm9yZ1wiXHUwMDNlT3BlblN0cmVldE1hcFx1MDAzYy9hXHUwMDNlLCB1bmRlciBcdTAwM2NhIGhyZWY9XCJodHRwOi8vd3d3Lm9wZW5zdHJlZXRtYXAub3JnL2NvcHlyaWdodFwiXHUwMDNlT0RiTFx1MDAzYy9hXHUwMDNlLiIsICJkZXRlY3RSZXRpbmEiOiBmYWxzZSwgIm1heE5hdGl2ZVpvb20iOiAxOCwgIm1heFpvb20iOiAxOCwgIm1pblpvb20iOiAwLCAibm9XcmFwIjogZmFsc2UsICJvcGFjaXR5IjogMSwgInN1YmRvbWFpbnMiOiAiYWJjIiwgInRtcyI6IGZhbHNlfQogICAgICAgICAgICApLmFkZFRvKG1hcF9lNTE0NDgyOTQ4NjI0MWFlODE1YzE0YWIwMmI4YTNjZSk7CiAgICAgICAgCiAgICAKICAgICAgICAgICAgdmFyIGNpcmNsZV9tYXJrZXJfYzg0OWNlNzI0NDZiNGIxYmEzM2VkYWFhMzA1YThjMjIgPSBMLmNpcmNsZU1hcmtlcigKICAgICAgICAgICAgICAgIFs0My42NTMzNDY0NTYzNTAzNiwgLTc5LjM3NDQ0NDkwNTExMjZdLAogICAgICAgICAgICAgICAgeyJidWJibGluZ01vdXNlRXZlbnRzIjogdHJ1ZSwgImNvbG9yIjogImJsdWUiLCAiZGFzaEFycmF5IjogbnVsbCwgImRhc2hPZmZzZXQiOiBudWxsLCAiZmlsbCI6IHRydWUsICJmaWxsQ29sb3IiOiAiIzMxODZjYyIsICJmaWxsT3BhY2l0eSI6IDAuNywgImZpbGxSdWxlIjogImV2ZW5vZGQiLCAibGluZUNhcCI6ICJyb3VuZCIsICJsaW5lSm9pbiI6ICJyb3VuZCIsICJvcGFjaXR5IjogMS4wLCAicmFkaXVzIjogNSwgInN0cm9rZSI6IHRydWUsICJ3ZWlnaHQiOiAzfQogICAgICAgICAgICApLmFkZFRvKG1hcF9lNTE0NDgyOTQ4NjI0MWFlODE1YzE0YWIwMmI4YTNjZSk7CiAgICAgICAgCiAgICAKICAgICAgICB2YXIgcG9wdXBfY2QxOTVlYmRiYjFmNDllOWIxYWNmMWM1MmEzNjkwOWIgPSBMLnBvcHVwKHsibWF4V2lkdGgiOiAiMTAwJSJ9KTsKCiAgICAgICAgCiAgICAgICAgICAgIHZhciBodG1sXzZlOTYxZTI0MWRjNjQ3NmJhYmYwZjY1M2ZkYzcyYTQyID0gJChgPGRpdiBpZD0iaHRtbF82ZTk2MWUyNDFkYzY0NzZiYWJmMGY2NTNmZGM3MmE0MiIgc3R5bGU9IndpZHRoOiAxMDAuMCU7IGhlaWdodDogMTAwLjAlOyI+UmVzdGF1cmFudDwvZGl2PmApWzBdOwogICAgICAgICAgICBwb3B1cF9jZDE5NWViZGJiMWY0OWU5YjFhY2YxYzUyYTM2OTA5Yi5zZXRDb250ZW50KGh0bWxfNmU5NjFlMjQxZGM2NDc2YmFiZjBmNjUzZmRjNzJhNDIpOwogICAgICAgIAoKICAgICAgICBjaXJjbGVfbWFya2VyX2M4NDljZTcyNDQ2YjRiMWJhMzNlZGFhYTMwNWE4YzIyLmJpbmRQb3B1cChwb3B1cF9jZDE5NWViZGJiMWY0OWU5YjFhY2YxYzUyYTM2OTA5YikKICAgICAgICA7CgogICAgICAgIAogICAgCjwvc2NyaXB0Pg== onload=\"this.contentDocument.open();this.contentDocument.write(atob(this.getAttribute('data-html')));this.contentDocument.close();\" allowfullscreen webkitallowfullscreen mozallowfullscreen></iframe></div></div>"
      ],
      "text/plain": [
       "<folium.folium.Map at 0x1291d8f8>"
      ]
     },
     "execution_count": 433,
     "metadata": {},
     "output_type": "execute_result"
    }
   ],
   "source": [
    "dt_map = folium.Map(location=[latitude, longitude], zoom_start=14)\n",
    "\n",
    "# add markers to map\n",
    "for lat, lng, label in zip(general_rest['lat'], general_rest['lng'], general_rest['categories']):\n",
    "    label = folium.Popup(label, parse_html=True)\n",
    "    folium.CircleMarker(\n",
    "        [lat, lng],\n",
    "        radius=5,\n",
    "        popup=label,\n",
    "        color='blue',\n",
    "        fill=True,\n",
    "        fill_color='#3186cc',\n",
    "        fill_opacity=0.7,\n",
    "        parse_html=False).add_to(dt_map)  \n",
    "    \n",
    "dt_map"
   ]
  },
  {
   "cell_type": "markdown",
   "metadata": {},
   "source": [
    "The only general restaurant located in Downtown Toronto is now located on the map so the client can now make a better descision about the location of their new restaurant. "
   ]
  },
  {
   "cell_type": "code",
   "execution_count": null,
   "metadata": {},
   "outputs": [],
   "source": []
  }
 ],
 "metadata": {
  "kernelspec": {
   "display_name": "Python 3",
   "language": "python",
   "name": "python3"
  },
  "language_info": {
   "codemirror_mode": {
    "name": "ipython",
    "version": 3
   },
   "file_extension": ".py",
   "mimetype": "text/x-python",
   "name": "python",
   "nbconvert_exporter": "python",
   "pygments_lexer": "ipython3",
   "version": "3.8.3"
  }
 },
 "nbformat": 4,
 "nbformat_minor": 4
}
